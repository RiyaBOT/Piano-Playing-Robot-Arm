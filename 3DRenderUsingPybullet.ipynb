{
 "cells": [
  {
   "cell_type": "markdown",
   "metadata": {},
   "source": [
    "# 3D render using Pybullet\n",
    "\n",
    "This code uses Python's Pybullet module for robotics simulations to simulate the 3D render of our custom piano playing robotic hand environment. This is an initial representation of the 3D environment and it has certain limitations in motion due to added physical dimensionality. Hence, this render was not used to make the final gif of the trained robotic finger, but rather is presented as a work-in-progress environment.\n",
    "\n",
    "Running this code starts the Pybullet engine to render the 3D model, and demonstrates a random agent working on the environment."
   ]
  },
  {
   "cell_type": "code",
   "execution_count": null,
   "metadata": {},
   "outputs": [],
   "source": [
    "import os\n",
    "import time\n",
    "import pybullet as p\n",
    "import pybullet_data\n",
    "from collections import deque\n",
    "import numpy as np\n",
    "from time import sleep\n",
    "\n",
    "from ipynb.fs.full.PianoHandv1 import *\n",
    "\n",
    "# Specify the goal (key) to test here. \n",
    "test_key = 'C'"
   ]
  },
  {
   "cell_type": "code",
   "execution_count": null,
   "metadata": {},
   "outputs": [],
   "source": [
    "serverMode = p.GUI\n",
    "handUrdfPath = \"./hand/urdf/hand.urdf\"                  # path to urdf file created for robot hand\n",
    "pianoUrdfPath = \"./piano/urdf/piano.urdf\"               # path to urdf file created for piano\n",
    "physicsClient = p.connect(serverMode)\n",
    "p.setAdditionalSearchPath(pybullet_data.getDataPath())\n",
    " \n",
    "planeID = p.loadURDF(\"plane.urdf\")                      # loading the world plane\n",
    "\n",
    "robotStartPos = [0,1,1]                                 # Start positions for robot hanmd\n",
    "robotStartOrn = p.getQuaternionFromEuler([0,0,0])\n",
    "\n",
    "pianoStartPos = [1.5, 0.5, 0.5]                         # Start positions for piano\n",
    "pianoStartOrn= p.getQuaternionFromEuler([0, 0, 0])\n",
    "\n",
    "print(\"Loading robot ...\")\n",
    "\n",
    "robotID = p.loadURDF(handUrdfPath, robotStartPos, globalScaling=5)     # Loading the robot hand\n",
    "pianoID= p.loadURDF(pianoUrdfPath, pianoStartPos, globalScaling= 6)     # Loading the piano"
   ]
  },
  {
   "cell_type": "code",
   "execution_count": null,
   "metadata": {},
   "outputs": [],
   "source": [
    "# Moving the links\n",
    "def moveactionlink(angle, linkid):\n",
    "    p.resetBasePositionAndOrientation(robotID, robotStartPos, robotStartOrn)\n",
    "    p.resetBasePositionAndOrientation(pianoID, pianoStartPos, pianoStartOrn)\n",
    "    p.stepSimulation()\n",
    "    p.resetJointState(robotID, linkid, angle)\n",
    "    sleep(1)\n",
    "    \n",
    "# Random agent acting on the environment    \n",
    "env = PianoHandEnv(test_key)\n",
    "for i in range(100):\n",
    "    action= random.randint(0, 15)\n",
    "    st, finger_reward, done, finger_link_position, finger_final_position= env.step(action)\n",
    "\n",
    "    moveactionlink(math.radians(st[0][0])+5.14, 0)\n",
    "    moveactionlink(math.radians(st[0][1])+5.14, 1)\n",
    "    moveactionlink(math.radians(st[1][0])+5.14, 2)\n",
    "    moveactionlink(math.radians(st[1][1])+5.14, 3)\n",
    "    moveactionlink(math.radians(st[2][0])+5.14, 4)\n",
    "    moveactionlink(math.radians(st[2][1])+5.14, 5)\n",
    "    moveactionlink(math.radians(st[3][0])+5.14, 6)\n",
    "    moveactionlink(math.radians(st[3][1])+5.14, 7)\n",
    "    \n",
    "\n",
    "p.disconnect()  "
   ]
  },
  {
   "cell_type": "markdown",
   "metadata": {},
   "source": [
    "### An example gif of the 3DRender\n",
    "<img src=\"GIFS/3DRender.gif\" width=\"750\" align=\"center\">"
   ]
  }
 ],
 "metadata": {
  "kernelspec": {
   "display_name": "Python 3",
   "language": "python",
   "name": "python3"
  },
  "language_info": {
   "codemirror_mode": {
    "name": "ipython",
    "version": 3
   },
   "file_extension": ".py",
   "mimetype": "text/x-python",
   "name": "python",
   "nbconvert_exporter": "python",
   "pygments_lexer": "ipython3",
   "version": "3.8.3"
  }
 },
 "nbformat": 4,
 "nbformat_minor": 4
}
