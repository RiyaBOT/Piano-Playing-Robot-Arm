{
 "cells": [
  {
   "cell_type": "markdown",
   "metadata": {},
   "source": [
    "# Validation code\n",
    "This code is used to validate the best weights obtained from training the model for two of different goals (Key C and D) and output a gif which shows the movement of the fingers. The different goals available are keys C, D, E and F, in increasing order of difficulty respectively. The best weights were obtained for keys C and D."
   ]
  },
  {
   "cell_type": "code",
   "execution_count": null,
   "metadata": {},
   "outputs": [],
   "source": [
    "from ipynb.fs.full.PianoHandv1 import *\n",
    "\n",
    "# Specify the goal (key) to test here. Either 'C' or 'D'\n",
    "test_key = 'D'"
   ]
  },
  {
   "cell_type": "code",
   "execution_count": null,
   "metadata": {},
   "outputs": [],
   "source": [
    "env = PianoHandEnv(test_key) \n",
    "\n",
    "# Rebuild the neural network architecture \n",
    "num_inputs = env.observation_space.shape[0]\n",
    "num_actions = env.action_space.n\n",
    "num_hidden = 2\n",
    "\n",
    "inputs = layers.Input(shape=(num_inputs,))\n",
    "common = layers.Dense(num_hidden, activation=\"relu\")(inputs)\n",
    "action = layers.Dense(num_actions, activation=\"softmax\")(common)\n",
    "critic = layers.Dense(1)(common)\n",
    "\n",
    "testmodel = keras.Model(inputs=inputs, outputs=[action, critic])\n",
    "testmodel.summary()\n",
    "\n",
    "# Load weights\n",
    "weight_path = \"./Weights/key\" + test_key + \".h5\"\n",
    "testmodel.load_weights(weight_path)                                 "
   ]
  },
  {
   "cell_type": "markdown",
   "metadata": {},
   "source": [
    "The maximum reward is obtained when the agent plays the speficied key and is 200."
   ]
  },
  {
   "cell_type": "code",
   "execution_count": null,
   "metadata": {},
   "outputs": [],
   "source": [
    "# Initialise variables\n",
    "episode_reward = 0\n",
    "episodes = 1\n",
    "max_steps = 100\n",
    "images=[] #to store each frame of the episode\n",
    "\n",
    "# Validate model with saved weights\n",
    "for i in range(episodes):\n",
    "    st = env.reset()\n",
    "    \n",
    "    # Convert shape of state to required shape\n",
    "    state= (st[0][0], st[0][1], st[1][0], st[1][1], st[2][0], st[2][1], st[3][0], st[3][1])\n",
    "    state = tf.convert_to_tensor(state)\n",
    "    state = tf.expand_dims(state, 0)\n",
    "    \n",
    "    done = False\n",
    "    for j in range(max_steps):\n",
    "        \n",
    "        # Use the neural network model with saved weights to predict action\n",
    "        prediction = np.array((testmodel.predict(state))[0])\n",
    "        action = np.argmax(prediction)\n",
    "        \n",
    "        nst, reward, done, _, _ = env.step(action)\n",
    "    \n",
    "        next_state= (nst[0][0], nst[0][1], nst[1][0], nst[1][1], nst[2][0], nst[2][1], nst[3][0], nst[3][1])\n",
    "        state = next_state\n",
    "        state = tf.convert_to_tensor(state)\n",
    "        state = tf.expand_dims(state, 0)\n",
    "        \n",
    "        episode_reward += reward\n",
    "        images.append(env.render(j, done))\n",
    "        \n",
    "        if done:\n",
    "            if i == episodes:\n",
    "                pass\n",
    "            break        \n",
    "    \n",
    "    print(\"TimeStep\", i+1, end='\\r')\n",
    "    \n",
    "# Display average rewards earned\n",
    "print('Average Reward:', episode_reward / episodes)"
   ]
  },
  {
   "cell_type": "code",
   "execution_count": null,
   "metadata": {},
   "outputs": [],
   "source": [
    "#converting it to a gif\n",
    "imageio.mimwrite(\"./GIFS/ValidationCode\"+ test_key +\".gif\", images)\n",
    "#This will save the gif in the GIF folder\n",
    "#View there or view the preloaded GIFS below\n"
   ]
  },
  {
   "cell_type": "markdown",
   "metadata": {},
   "source": [
    "Preloaded Gifs:\n",
    "C:\n",
    "<img src=\"GIFS/PreloadedC.gif\" width=\"750\" align=\"center\">\n"
   ]
  },
  {
   "cell_type": "markdown",
   "metadata": {},
   "source": [
    "D:\n",
    "<img src=\"GIFS/PreloadedD.gif\" width=\"750\" align=\"center\">"
   ]
  }
 ],
 "metadata": {
  "kernelspec": {
   "display_name": "Python 3",
   "language": "python",
   "name": "python3"
  },
  "language_info": {
   "codemirror_mode": {
    "name": "ipython",
    "version": 3
   },
   "file_extension": ".py",
   "mimetype": "text/x-python",
   "name": "python",
   "nbconvert_exporter": "python",
   "pygments_lexer": "ipython3",
   "version": "3.8.3"
  }
 },
 "nbformat": 4,
 "nbformat_minor": 4
}
